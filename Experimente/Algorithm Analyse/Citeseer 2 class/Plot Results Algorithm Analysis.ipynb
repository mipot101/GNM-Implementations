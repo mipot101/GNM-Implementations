{
 "cells": [
  {
   "cell_type": "code",
   "execution_count": null,
   "metadata": {},
   "outputs": [],
   "source": [
    "from torch_geometric.datasets import Planetoid\n",
    "import torch\n",
    "import torch.nn.functional as F\n",
    "from torch_geometric.nn import GCNConv\n",
    "#import matplotlib.pyplot as plt\n",
    "import pylab as plt\n",
    "import pickle\n",
    "import sys\n",
    "import numpy as np\n",
    "from scipy import interpolate\n",
    "\n",
    "from GNM_Toolbox.data.dataloader import *"
   ]
  },
  {
   "cell_type": "code",
   "execution_count": null,
   "metadata": {},
   "outputs": [],
   "source": [
    "all_models = pickle_read('l2_analysis-citeseer.pkl')\n",
    "plot_data(all_models, ['red', 'blue', 'green'])"
   ]
  },
  {
   "cell_type": "code",
   "execution_count": null,
   "metadata": {},
   "outputs": [],
   "source": [
    "def var(l, mean):\n",
    "    # l: list of floats, \n",
    "    # mean: float\n",
    "    return np.mean((l-mean)**2)\n",
    "\n",
    "def plot_data(all_models, colors):\n",
    "    names = list(all_models.keys())\n",
    "    M = len(names)\n",
    "    \n",
    "    plt.figure(None, (18, 8))\n",
    "    \n",
    "    for name, color in zip(names, colors):\n",
    "        # print point cloud\n",
    "        data = np.array(all_models[name]).T\n",
    "        #plt.plot(*data, 'x', alpha = 1, color=color)\n",
    "        \n",
    "        # print mean function\n",
    "        lambdas = data[0]\n",
    "        values = data[1]\n",
    "        mini = np.min(lambdas)\n",
    "        maxi = np.max(lambdas)\n",
    "        width = (maxi-mini)/5\n",
    "        xn = np.linspace(mini, maxi, 30)\n",
    "        yn_mean = np.zeros_like(xn)\n",
    "        yn_lower_var = np.zeros_like(xn)\n",
    "        yn_upper_var = np.zeros_like(xn)\n",
    "        for i in range(len(xn)):\n",
    "            ys = list()\n",
    "            # Find all values in given interval [xn[i] +- width/2]\n",
    "            for j in range(len(values)):\n",
    "                if lambdas[j] <= xn[i] + width/2 and lambdas[j] >= xn[i] - width/2:\n",
    "                    ys.append(values[j])\n",
    "            ys = np.sort(ys)\n",
    "            mean = np.mean(ys)\n",
    "            ys_lower = [y for y in ys if y < mean]\n",
    "            ys_upper = [y for y in ys if y > mean]\n",
    "            \n",
    "            yn_mean[i] = mean\n",
    "            yn_lower_var[i] = np.sqrt(var(ys_lower, mean))\n",
    "            yn_upper_var[i] = np.sqrt(var(ys_upper, mean))\n",
    "            \n",
    "            \n",
    "        mean_spline = interpolate.UnivariateSpline(xn, yn_mean)\n",
    "        var_upper_spline = interpolate.UnivariateSpline(xn, yn_mean + yn_upper_var)\n",
    "        var_lower_spline = interpolate.UnivariateSpline(xn, yn_mean - yn_lower_var)\n",
    "        mean_spline.set_smoothing_factor(0.0001)\n",
    "        var_upper_spline.set_smoothing_factor(0.001)\n",
    "        var_lower_spline.set_smoothing_factor(0.001)\n",
    "        \n",
    "        #plt.plot(xn, yn_mean, color=color, label=name)\n",
    "        plt.plot(xn, mean_spline(xn), color=color, label=name)\n",
    "        \n",
    "        plt.plot(xn, var_lower_spline(xn), alpha=0.3, color=color)\n",
    "        plt.plot(xn, var_upper_spline(xn), alpha=0.3, color=color)\n",
    "        plt.fill_between(xn, var_lower_spline(xn), var_upper_spline(xn), alpha=0.04, color=color)\n",
    "\n",
    "    plt.legend(fontsize=15)\n",
    "    plt.xlabel(r'$\\lambda$', fontsize=20)\n",
    "    plt.ylabel(r'Genauigkeit', fontsize=20)"
   ]
  }
 ],
 "metadata": {
  "kernelspec": {
   "display_name": "Python 3",
   "language": "python",
   "name": "python3"
  },
  "language_info": {
   "codemirror_mode": {
    "name": "ipython",
    "version": 3
   },
   "file_extension": ".py",
   "mimetype": "text/x-python",
   "name": "python",
   "nbconvert_exporter": "python",
   "pygments_lexer": "ipython3",
   "version": "3.7.4"
  }
 },
 "nbformat": 4,
 "nbformat_minor": 2
}
