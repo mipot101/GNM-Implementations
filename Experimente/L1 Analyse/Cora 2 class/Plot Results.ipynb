{
 "cells": [
  {
   "cell_type": "code",
   "execution_count": null,
   "metadata": {},
   "outputs": [],
   "source": [
    "from torch_geometric.datasets import Planetoid\n",
    "import torch\n",
    "import torch.nn.functional as F\n",
    "from torch_geometric.nn import GCNConv\n",
    "#import matplotlib.pyplot as plt\n",
    "import pylab as plt\n",
    "import pickle\n",
    "import sys\n",
    "import numpy as np\n",
    "\n",
    "from GNM_Toolbox.data.dataloader import *\n",
    "\n",
    "dataset = load_dataset('Cora')"
   ]
  },
  {
   "cell_type": "code",
   "execution_count": null,
   "metadata": {},
   "outputs": [],
   "source": [
    "all_models = pickle_read('l1_analysis-noise-final-2.pkl')"
   ]
  },
  {
   "cell_type": "code",
   "execution_count": null,
   "metadata": {},
   "outputs": [],
   "source": [
    "def setBoxColors(bp, edge_color='red', face_color='red'):\n",
    "    for element in ['boxes', 'whiskers', 'fliers', 'means', 'medians', 'caps']:\n",
    "        plt.setp(bp[element], color=edge_color)\n",
    "    plt.setp(bp[\"boxes\"], facecolor=face_color)\n",
    "    plt.setp(bp[\"fliers\"], markeredgecolor=face_color)\n",
    "    \n",
    "def plot_data(all_models, colors, names, dist = [-0.15, 0.15]):\n",
    "    M = len(all_models)\n",
    "    \n",
    "    # Set up \n",
    "    fig = plt.figure(figsize=(18, 8))\n",
    "    ax = plt.axes()\n",
    "    minimum = 1\n",
    "    maximum = 0\n",
    "    for i, l in zip(range(1, M+1), all_models):\n",
    "        for models, color, (dd, d) in zip(all_models[l], colors, enumerate(dist)):\n",
    "            acc = list()\n",
    "            for model in models:\n",
    "                if type(model[1]) == type(list()):\n",
    "                    acc.append(model[1][len(model[1])-1])\n",
    "                else:\n",
    "                    acc.append(model[1])\n",
    "            \n",
    "            # Find min und max\n",
    "            if minimum > min(acc):\n",
    "                minimum = min(acc)\n",
    "            if maximum < max(acc):\n",
    "                maximum = max(acc)\n",
    "            if dd == 0:\n",
    "                print('\\\\hline')\n",
    "                print('{} & \\\\textbf{{NLL}} & \\\\textbf{{{:.3f}}} & \\\\textbf{{{}}} \\\\\\\\'.format(l, np.mean(acc), np.format_float_scientific(np.var(acc), precision=2)))\n",
    "            elif dd == 1:\n",
    "                print('& $\\\\textbf{{L}}_1$ & \\\\textbf{{{:.3f}}} & \\\\textbf{{{}}} \\\\\\\\'.format(np.mean(acc), np.format_float_scientific(np.var(acc), precision=2)))\n",
    "            else:\n",
    "                sigma = [0, 0.0025, 0.005, 0.0075, 0.01, 0.0125, 0.015, 0.0175, 0.02]\n",
    "                print('& $L_1$ + $\\\\sigma$ = {} & {:.3f} & {} \\\\\\\\'.format(sigma[dd-1], np.mean(acc), np.format_float_scientific(np.var(acc), precision=2)))\n",
    "            bp = plt.boxplot([acc], positions = [i+d], widths = 0.5 / len(dist), patch_artist=True)\n",
    "            setBoxColors(bp, 'black', color)\n",
    "        \n",
    "    # Set x-axis labels\n",
    "    seperation_lines = [i + 0.5 for i in range(1, M)]\n",
    "    plt.vlines(seperation_lines, 0, 1, colors='grey', linestyles='dashed')\n",
    "    ax.set_xticks(list(range(1, M+1)))\n",
    "    ax.set_yticks([0.3, 0.4, 0.5, 0.6, 0.7, 0.75, 0.8, 0.825,  0.85, 0.875, 0.9])\n",
    "    lambdas = list(all_models.keys())\n",
    "    lambdas.sort()\n",
    "    ax.set_xticklabels([int(l * 100)/100 for l in lambdas])\n",
    "    plt.ylim(minimum - 0.01, maximum + 0.01)\n",
    "    plt.xlim(0.4, M + 0.6)\n",
    "    \n",
    "    # draw temporary red and blue lines and use them to create a legend\n",
    "    helps = list()\n",
    "    for color in colors:\n",
    "        h, = plt.plot([1, 1], color=color)\n",
    "        helps.append(h)\n",
    "    ax.legend(helps, names, prop={'size': 16}) #plot.legend(loc=2, prop={'size': 6})\n",
    "    ax.grid(True, axis='y')\n",
    "    ax.set_xlabel(r'$\\lambda$')\n",
    "    ax.set_ylabel(r'Genauigkeit auf unbekannten Daten')\n",
    "    for h in helps:\n",
    "        h.set_visible(False)"
   ]
  },
  {
   "cell_type": "code",
   "execution_count": null,
   "metadata": {},
   "outputs": [],
   "source": [
    "# 0, 0.0025, 0.005, 0.0075, 0.01, 0.0125, 0.015, 0.0175, 0.02\n",
    "plot_data(all_models, \n",
    "          ('b', *[(0.3 + i * 0.0875, 0.8 - i * 0.1, 0.2 - i * 0.01) for i in range(9)]), \n",
    "          ['NLL', r'$L_1$ + $\\pi$', r'$L_1$ + $\\pi_{0.0025}$', r'$L_1$ + $\\pi_{0.005}$', r'$L_1$ + $\\pi_{0.0075}$', r'$L_1$ + $\\pi_{0.01}$', r'$L_1$ + $\\pi_{0.0125}$', r'$L_1$ + $\\pi_{0.015}$', r'$L_1$ + $\\pi_{0.0175}$', r'$L_1$ + $\\pi_{0.02}$'], \n",
    "          dist = [-0.4, -0.31, -0.22, -0.13, -0.04, 0.04, 0.13, 0.22, 0.31, 0.4])\n"
   ]
  }
 ],
 "metadata": {
  "kernelspec": {
   "display_name": "Python 3",
   "language": "python",
   "name": "python3"
  },
  "language_info": {
   "codemirror_mode": {
    "name": "ipython",
    "version": 3
   },
   "file_extension": ".py",
   "mimetype": "text/x-python",
   "name": "python",
   "nbconvert_exporter": "python",
   "pygments_lexer": "ipython3",
   "version": "3.7.4"
  }
 },
 "nbformat": 4,
 "nbformat_minor": 2
}
